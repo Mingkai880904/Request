{
  "nbformat": 4,
  "nbformat_minor": 0,
  "metadata": {
    "colab": {
      "name": "“python網路爬蟲_1.ipynb”的副本",
      "version": "0.3.2",
      "provenance": [],
      "include_colab_link": true
    },
    "kernelspec": {
      "name": "python3",
      "display_name": "Python 3"
    }
  },
  "cells": [
    {
      "cell_type": "markdown",
      "metadata": {
        "id": "view-in-github",
        "colab_type": "text"
      },
      "source": [
        "<a href=\"https://colab.research.google.com/github/Mingkai880904/Request/blob/master/%E2%80%9Cpython%E7%B6%B2%E8%B7%AF%E7%88%AC%E8%9F%B2_1_ipynb%E2%80%9D%E7%9A%84%E5%89%AF%E6%9C%AC.ipynb\" target=\"_parent\"><img src=\"https://colab.research.google.com/assets/colab-badge.svg\" alt=\"Open In Colab\"/></a>"
      ]
    },
    {
      "metadata": {
        "id": "jV50S7R__BTC",
        "colab_type": "code",
        "colab": {}
      },
      "cell_type": "code",
      "source": [
        ""
      ],
      "execution_count": 0,
      "outputs": []
    },
    {
      "metadata": {
        "id": "pAFHMZGe2hjh",
        "colab_type": "text"
      },
      "cell_type": "markdown",
      "source": [
        "# Python 網路爬蟲實戰\n",
        "\n",
        "教科書:Python 網路爬蟲與資料分析入門實戰\n",
        "\n",
        "作者：林俊瑋、林修博；出版商：博碩文化\n",
        "\n",
        "https://github.com/jwlin/py-scraping-analysis-book"
      ]
    },
    {
      "metadata": {
        "id": "knydcOnB22Bv",
        "colab_type": "text"
      },
      "cell_type": "markdown",
      "source": [
        "## 範例一"
      ]
    },
    {
      "metadata": {
        "id": "BfwqY2gZANjB",
        "colab_type": "code",
        "outputId": "5510615a-02ba-43fd-eb52-ac4207ed2de1",
        "colab": {
          "base_uri": "https://localhost:8080/",
          "height": 991
        }
      },
      "cell_type": "code",
      "source": [
        "import requests\n",
        "from bs4 import BeautifulSoup\n",
        "\n",
        "resp = requests.get('https://jwlin.github.io/py-scraping-analysis-book/ch1/connect.html')\n",
        "print(resp.text)\n",
        "#print(resp)\n",
        "#soup = BeautifulSoup(resp.text, 'html.parser')\n",
        "#print(soup.find('h1').text)"
      ],
      "execution_count": 0,
      "outputs": [
        {
          "output_type": "stream",
          "text": [
            "<!DOCTYPE html>\n",
            "<html lang=\"en\">\n",
            "  <head>\n",
            "    <meta charset=\"utf-8\">\n",
            "    <meta http-equiv=\"X-UA-Compatible\" content=\"IE=edge\">\n",
            "    <meta name=\"viewport\" content=\"width=device-width, initial-scale=1\">\n",
            "    <!-- The above 3 meta tags *must* come first in the head; any other head content must come *after* these tags -->\n",
            "    <meta name=\"description\" content=\"\">\n",
            "    <meta name=\"author\" content=\"\">\n",
            "    \n",
            "    <title>Pycone 松果城市</title>\n",
            "\n",
            "    <!-- Bootstrap core CSS -->\n",
            "    <link href=\"bootstrap.min.css\" rel=\"stylesheet\">\n",
            "\n",
            "    <!-- IE10 viewport hack for Surface/desktop Windows 8 bug -->\n",
            "    <link href=\"https://getbootstrap.com/assets/css/ie10-viewport-bug-workaround.css\" rel=\"stylesheet\">\n",
            "\n",
            "    <!-- Custom styles for this template -->\n",
            "    <link href=\"https://getbootstrap.com/examples/sticky-footer/sticky-footer.css\" rel=\"stylesheet\">\n",
            "\n",
            "    <!-- Just for debugging purposes. Don't actually copy these 2 lines! -->\n",
            "    <!--[if lt IE 9]><script src=\"../../assets/js/ie8-responsive-file-warning.js\"></script><![endif]-->\n",
            "    <script src=\"https://getbootstrap.com/assets/js/ie-emulation-modes-warning.js\"></script>\n",
            "\n",
            "    <!-- HTML5 shim and Respond.js for IE8 support of HTML5 elements and media queries -->\n",
            "    <!--[if lt IE 9]>\n",
            "      <script src=\"https://oss.maxcdn.com/html5shiv/3.7.3/html5shiv.min.js\"></script>\n",
            "      <script src=\"https://oss.maxcdn.com/respond/1.4.2/respond.min.js\"></script>\n",
            "    <![endif]-->\n",
            "  </head>\n",
            "\n",
            "  <body>\n",
            "\n",
            "    <!-- Begin page content -->\n",
            "    <div class=\"container\">\n",
            "      <div class=\"page-header\">\n",
            "        <h1>歡迎來到 Pycone 松果城市！</h1>\n",
            "      </div>\n",
            "      <p class=\"lead\">Python是非常強的的程式語言, 簡潔友好的語法特別容易上手, 又有許多第三方函式庫的支援。Python是完全物件導向的語言, 有益於減少程式碼的重複性。Python的設計哲學是優雅, 明確, 簡單。 Python的設計風格, 使其成為易讀, 易維護且具有廣泛用途的程式語言。Python的應用範圍相當廣泛, 例如web後端開發, 機器學習, 資料分析, 自然語言處理, 網頁爬蟲與遊戲等等。如果自己常常翻閱書籍卻無法掌握重點, 上網收集資料卻覺得太過片段, 想要自己動手寫寫看卻不知道如何開始。 這們課會從最基本的環境架設開始教起, 讓所有同學都可以深入淺出一窺Python的奧妙,更透過實務專題練習的方式,使學生可以應用課堂所學來完成一個Python軟體。</p>\n",
            "      <p><a href=\"http://www.pycone.com/\">了解更多</a></p>\n",
            "    </div>\n",
            "\n",
            "    <footer class=\"footer\">\n",
            "      <div class=\"container\">\n",
            "        <p class=\"text-muted\">Pycone (c) 2017</p>\n",
            "      </div>\n",
            "    </footer>\n",
            "\n",
            "\n",
            "    <!-- IE10 viewport hack for Surface/desktop Windows 8 bug -->\n",
            "    <script src=\"http://getbootstrap.com/assets/js/ie10-viewport-bug-workaround.js\"></script>\n",
            "  </body>\n",
            "</html>\n",
            "\n"
          ],
          "name": "stdout"
        }
      ]
    },
    {
      "metadata": {
        "id": "oxNmAUZgAeLw",
        "colab_type": "code",
        "outputId": "225968f2-d4cd-48e6-9b80-84099377b7b7",
        "colab": {
          "base_uri": "https://localhost:8080/",
          "height": 141
        }
      },
      "cell_type": "code",
      "source": [
        "import requests\n",
        "from bs4 import BeautifulSoup\n",
        "\n",
        "resp = requests.get('https://www.google.com')\n",
        "soup = BeautifulSoup(resp.text, 'html.parser')\n",
        "print(soup.text)"
      ],
      "execution_count": 0,
      "outputs": [
        {
          "output_type": "stream",
          "text": [
            "Google(function(){window.google={kEI:'-UvAXIeSI4qA0wKplqjABQ',kEXPI:'0,18167,1335580,57,1957,2423,667,31,527,730,224,756,468,351,1218,39,1894,57,528,351,666,225,207,205,2332931,303251,26305,1294,12383,4855,32692,8162,7085,867,12443,6101,3335,2,2,4609,2192,364,3319,5505,224,2218,260,5107,575,835,284,2,204,374,728,2432,58,2,1,3,1297,4323,3700,1268,773,2248,1409,3337,1146,5,2,2,1965,2593,3601,669,1050,1809,1396,81,7,1,2,488,620,29,1395,978,892,1740,4090,1209,317,971,2,2922,2,1083,796,1220,38,920,753,120,1217,1361,1614,2729,7,1558,2136,732,1830,2,4,2,670,44,1768,1976,914,125,1479,1128,12,621,2227,5,650,21,317,895,671,416,865,326,198,781,150,216,1016,302,605,98,758,96,392,30,79,320,76,916,456,53,328,162,108,10,168,8,296,831,82,58,95,78,365,362,5,450,174,563,404,601,11,14,10,574,355,1484,85,70,589,315,9,25,306,194,5,478,582,102,90,67,474,155,144,324,65,88,12,28,110,341,81,59,483,102,23,160,68,39,5,13,38,108,219,276,44,170,1240,187,109,33,9,62,24,112,226,50,161,39,51,297,23,927,151,228,43,160,308,970,658,29,236,68,512,42,1244,489,5940788,2554,5997835,47,31,2799873,4,1572,549,333,444,1,2,80,1,900,583,9,304,1,8,1,2,2132,1,1,1,1,1,414,1,748,141,59,726,3,7,563,1,1735,1,60,51,6,4,15,1,23,11,9,4,17,4,10,4,3,22305180',authuser:0,kscs:'c9c918f0_-UvAXIeSI4qA0wKplqjABQ',kGL:'US'};google.sn='webhp';google.kHL='en';})();(function(){google.lc=[];google.li=0;google.getEI=function(a){for(var b;a&&(!a.getAttribute||!(b=a.getAttribute(\"eid\")));)a=a.parentNode;return b||google.kEI};google.getLEI=function(a){for(var b=null;a&&(!a.getAttribute||!(b=a.getAttribute(\"leid\")));)a=a.parentNode;return b};google.https=function(){return\"https:\"==window.location.protocol};google.ml=function(){return null};google.time=function(){return(new Date).getTime()};google.log=function(a,b,e,c,g){if(a=google.logUrl(a,b,e,c,g)){b=new Image;var d=google.lc,f=google.li;d[f]=b;b.onerror=b.onload=b.onabort=function(){delete d[f]};google.vel&&google.vel.lu&&google.vel.lu(a);b.src=a;google.li=f+1}};google.logUrl=function(a,b,e,c,g){var d=\"\",f=google.ls||\"\";e||-1!=b.search(\"&ei=\")||(d=\"&ei=\"+google.getEI(c),-1==b.search(\"&lei=\")&&(c=google.getLEI(c))&&(d+=\"&lei=\"+c));c=\"\";!e&&google.cshid&&-1==b.search(\"&cshid=\")&&\"slh\"!=a&&(c=\"&cshid=\"+google.cshid);a=e||\"/\"+(g||\"gen_204\")+\"?atyp=i&ct=\"+a+\"&cad=\"+b+d+f+\"&zx=\"+google.time()+c;/^http:/i.test(a)&&google.https()&&(google.ml(Error(\"a\"),!1,{src:a,glmm:1}),a=\"\");return a};}).call(this);(function(){google.y={};google.x=function(a,b){if(a)var c=a.id;else{do c=Math.random();while(google.y[c])}google.y[c]=[a,b];return!1};google.lm=[];google.plm=function(a){google.lm.push.apply(google.lm,a)};google.lq=[];google.load=function(a,b,c){google.lq.push([[a],b,c])};google.loadAll=function(a,b){google.lq.push([a,b])};}).call(this);google.f={};var a=window.location,b=a.href.indexOf(\"#\");if(0<=b){var c=a.href.substring(b+1);/(^|&)q=/.test(c)&&-1==c.indexOf(\"#\")&&a.replace(\"/search?\"+c.replace(/(^|&)fp=[^&]*/g,\"\")+\"&cad=h\")};#gbar,#guser{font-size:13px;padding-top:1px !important;}#gbar{height:22px}#guser{padding-bottom:7px !important;text-align:right}.gbh,.gbd{border-top:1px solid #c9d7f1;font-size:1px}.gbh{height:0;position:absolute;top:24px;width:100%}@media all{.gb1{height:22px;margin-right:.5em;vertical-align:top}#gbar{float:left}}a.gb1,a.gb4{text-decoration:underline !important}a.gb1,a.gb4{color:#00c !important}.gbi .gb4{color:#dd8e27 !important}.gbf .gb4{color:#900 !important}\n",
            "body,td,a,p,.h{font-family:arial,sans-serif}body{margin:0;overflow-y:scroll}#gog{padding:3px 8px 0}td{line-height:.8em}.gac_m td{line-height:17px}form{margin-bottom:20px}.h{color:#36c}.q{color:#00c}.ts td{padding:0}.ts{border-collapse:collapse}em{font-weight:bold;font-style:normal}.lst{height:25px;width:496px}.gsfi,.lst{font:18px arial,sans-serif}.gsfs{font:17px arial,sans-serif}.ds{display:inline-box;display:inline-block;margin:3px 0 4px;margin-left:4px}input{font-family:inherit}a.gb1,a.gb2,a.gb3,a.gb4{color:#11c !important}body{background:#fff;color:black}a{color:#11c;text-decoration:none}a:hover,a:active{text-decoration:underline}.fl a{color:#36c}a:visited{color:#551a8b}a.gb1,a.gb4{text-decoration:underline}a.gb3:hover{text-decoration:none}#ghead a.gb2:hover{color:#fff !important}.sblc{padding-top:5px}.sblc a{display:block;margin:2px 0;margin-left:13px;font-size:11px}.lsbb{background:#eee;border:solid 1px;border-color:#ccc #999 #999 #ccc;height:30px}.lsbb{display:block}.ftl,#fll a{display:inline-block;margin:0 12px}.lsb{background:url(/images/nav_logo229.png) 0 -261px repeat-x;border:none;color:#000;cursor:pointer;height:30px;margin:0;outline:0;font:15px arial,sans-serif;vertical-align:top}.lsb:active{background:#ccc}.lst:focus{outline:none}(function(){var src='/images/nav_logo229.png';var iesg=false;document.body.onload = function(){window.n && window.n();if (document.images){new Image().src=src;}\n",
            "if (!iesg){document.f&&document.f.q.focus();document.gbqf&&document.gbqf.q.focus();}\n",
            "}\n",
            "})(); Search Images Maps Play YouTube News Gmail Drive More »Web History | Settings | Sign in  Advanced searchLanguage tools(function(){var a,b=\"1\";if(document&&document.getElementById)if(\"undefined\"!=typeof XMLHttpRequest)b=\"2\";else if(\"undefined\"!=typeof ActiveXObject){var c,d,e=[\"MSXML2.XMLHTTP.6.0\",\"MSXML2.XMLHTTP.3.0\",\"MSXML2.XMLHTTP\",\"Microsoft.XMLHTTP\"];for(c=0;d=e[c++];)try{new ActiveXObject(d),b=\"2\"}catch(h){}}a=b;if(\"2\"==a&&-1==location.search.indexOf(\"&gbv=2\")){var f=google.gbvu,g=document.getElementById(\"gbv\");g&&(g.value=a);f&&window.setTimeout(function(){location.href=f},0)};}).call(this);.szppmdbYutt__middle-slot-promo{font-size:small;margin-bottom:32px}.szppmdbYutt__middle-slot-promo a.ZIeIlb{display:inline-block;text-decoration:none}.szppmdbYutt__middle-slot-promo img{border:none;margin-right:5px;vertical-align:middle}We can all help prevent opioid abuse. Dispose of old & unneeded medications safelyAdvertising ProgramsBusiness SolutionsAbout Google© 2019 - Privacy - Terms(function(){window.google.cdo={height:0,width:0};(function(){var a=window.innerWidth,b=window.innerHeight;if(!a||!b){var c=window.document,d=\"CSS1Compat\"==c.compatMode?c.documentElement:c.body;a=d.clientWidth;b=d.clientHeight}a&&b&&(a!=google.cdo.width||b!=google.cdo.height)&&google.log(\"\",\"\",\"/client_204?&atyp=i&biw=\"+a+\"&bih=\"+b+\"&ei=\"+google.kEI);}).call(this);})();(function(){var u='/xjs/_/js/k\\x3dxjs.hp.en_US.1kXXhf2xMQs.O/m\\x3dsb_he,d/am\\x3dBAxqAQ/rt\\x3dj/d\\x3d1/rs\\x3dACT90oFI9xRIkz4ZbbYc9n0VJIKwYXNBCA';setTimeout(function(){var a=document.createElement(\"script\");a.src=u;google.timers&&google.timers.load&&google.tick&&google.tick(\"load\",\"xjsls\");document.body.appendChild(a)},0);})();(function(){window.google.xjsu='/xjs/_/js/k\\x3dxjs.hp.en_US.1kXXhf2xMQs.O/m\\x3dsb_he,d/am\\x3dBAxqAQ/rt\\x3dj/d\\x3d1/rs\\x3dACT90oFI9xRIkz4ZbbYc9n0VJIKwYXNBCA';})();function _DumpException(e){throw e;}\n",
            "(function(){google.spjs=false;})();google.sm=1;(function(){var pmc='{\\x22Qnk92g\\x22:{},\\x22RWGcrA\\x22:{},\\x22U5B21g\\x22:{},\\x22YFCs/g\\x22:{},\\x22ZI/YVQ\\x22:{},\\x22d\\x22:{},\\x22sb_he\\x22:{\\x22agen\\x22:true,\\x22cgen\\x22:true,\\x22client\\x22:\\x22heirloom-hp\\x22,\\x22dh\\x22:true,\\x22dhqt\\x22:true,\\x22ds\\x22:\\x22\\x22,\\x22ffql\\x22:\\x22en\\x22,\\x22fl\\x22:true,\\x22host\\x22:\\x22google.com\\x22,\\x22isbh\\x22:28,\\x22jsonp\\x22:true,\\x22msgs\\x22:{\\x22cibl\\x22:\\x22Clear Search\\x22,\\x22dym\\x22:\\x22Did you mean:\\x22,\\x22lcky\\x22:\\x22I\\\\u0026#39;m Feeling Lucky\\x22,\\x22lml\\x22:\\x22Learn more\\x22,\\x22oskt\\x22:\\x22Input tools\\x22,\\x22psrc\\x22:\\x22This search was removed from your \\\\u003Ca href\\x3d\\\\\\x22/history\\\\\\x22\\\\u003EWeb History\\\\u003C/a\\\\u003E\\x22,\\x22psrl\\x22:\\x22Remove\\x22,\\x22sbit\\x22:\\x22Search by image\\x22,\\x22srch\\x22:\\x22Google Search\\x22},\\x22ovr\\x22:{},\\x22pq\\x22:\\x22\\x22,\\x22refpd\\x22:true,\\x22rfs\\x22:[],\\x22sbpl\\x22:24,\\x22sbpr\\x22:24,\\x22scd\\x22:10,\\x22sce\\x22:5,\\x22stok\\x22:\\x225FJlEBNHYDOT1LlAktAlDVJA81w\\x22,\\x22uhde\\x22:false}}';google.pmc=JSON.parse(pmc);})(); \n"
          ],
          "name": "stdout"
        }
      ]
    },
    {
      "metadata": {
        "id": "avp2We4xArSM",
        "colab_type": "code",
        "colab": {}
      },
      "cell_type": "code",
      "source": [
        ""
      ],
      "execution_count": 0,
      "outputs": []
    },
    {
      "metadata": {
        "id": "vyFWSb7e_CFt",
        "colab_type": "text"
      },
      "cell_type": "markdown",
      "source": [
        ""
      ]
    },
    {
      "metadata": {
        "id": "oiOvaEam_Cda",
        "colab_type": "code",
        "outputId": "6b5a8a30-dc6b-4bef-e712-b75614c299c9",
        "colab": {
          "base_uri": "https://localhost:8080/",
          "height": 123
        }
      },
      "cell_type": "code",
      "source": [
        "import requests\n",
        "from bs4 import BeautifulSoup\n",
        "\n",
        "def main():    \n",
        "   url1 = 'http://jwlin.github.io/py-scraping-analysis-book/ch1/connect.html'    \n",
        "   bad_url = 'http://non-existed.domain/connect.html'    \n",
        "\n",
        "   text1 = get_tag_text(url1, 'h1')    \n",
        "   print(text1)    \n",
        "\n",
        "   text2 = get_tag_text(url1, 'h2')    \n",
        "   print(text2)    \n",
        "\n",
        "   text3 = get_tag_text(bad_url, 'h1')    \n",
        "   print(text3)\n",
        "\n",
        "def get_tag_text(url, tag):    \n",
        "        try:        \n",
        "             resp = requests.get(url)        \n",
        "             if resp.status_code == 200:            \n",
        "                      soup = BeautifulSoup(resp.text, 'html.parser')            \n",
        "                      return soup.find(tag).text    \n",
        "        except Exception as e:        \n",
        "            print('Exception: %s' %(e))    \n",
        "\n",
        " #  return None\n",
        "\n",
        "\n",
        "\n",
        "if __name__ == '__main__':    \n",
        "        main()\n"
      ],
      "execution_count": 0,
      "outputs": [
        {
          "output_type": "stream",
          "text": [
            "歡迎來到 Pycone 松果城市！\n",
            "Exception: 'NoneType' object has no attribute 'text'\n",
            "None\n",
            "Exception: HTTPConnectionPool(host='non-existed.domain', port=80): Max retries exceeded with url: /connect.html (Caused by NewConnectionError('<urllib3.connection.HTTPConnection object at 0x7f9255c40278>: Failed to establish a new connection: [Errno -2] Name or service not known',))\n",
            "None\n"
          ],
          "name": "stdout"
        }
      ]
    }
  ]
}